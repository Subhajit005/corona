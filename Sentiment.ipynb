{
 "cells": [
  {
   "cell_type": "code",
   "execution_count": 7,
   "id": "1449a1d1",
   "metadata": {},
   "outputs": [
    {
     "name": "stdout",
     "output_type": "stream",
     "text": [
      "Requirement already satisfied: textblob in e:\\anaconda\\lib\\site-packages (0.15.3)\n",
      "Requirement already satisfied: nltk>=3.1 in e:\\anaconda\\lib\\site-packages (from textblob) (3.6.1)\n",
      "Requirement already satisfied: tqdm in e:\\anaconda\\lib\\site-packages (from nltk>=3.1->textblob) (4.59.0)\n",
      "Requirement already satisfied: regex in e:\\anaconda\\lib\\site-packages (from nltk>=3.1->textblob) (2021.4.4)\n",
      "Requirement already satisfied: click in e:\\anaconda\\lib\\site-packages (from nltk>=3.1->textblob) (7.1.2)\n",
      "Requirement already satisfied: joblib in e:\\anaconda\\lib\\site-packages (from nltk>=3.1->textblob) (1.0.1)\n"
     ]
    }
   ],
   "source": [
    "!pip install textblob      \n",
    "\n",
    "import textblob            \n",
    "from textblob import TextBlob\n",
    "from textblob import TextBlob"
   ]
  },
  {
   "cell_type": "code",
   "execution_count": 12,
   "id": "3f1b1834",
   "metadata": {},
   "outputs": [
    {
     "name": "stdout",
     "output_type": "stream",
     "text": [
      "The Flower rose is beautiful.\n",
      "\n",
      "Sentiment is Positive \n",
      "\n",
      "\n",
      "The food was terrible.\n",
      "\n",
      "Sentiment is negative \n",
      "\n",
      "\n",
      "I was hgoing to that place.\n",
      "\n",
      "Sentiment is neutral \n",
      "\n",
      "\n",
      "This product is nice and have many features.\n",
      "Sentiment is Positive \n",
      "\n",
      "\n"
     ]
    }
   ],
   "source": [
    "f = open(\"Feedback.txt\",\"r\")\n",
    "for line in f:\n",
    "    print(line)\n",
    "    obj= TextBlob(line)\n",
    "    sentiment = obj.sentiment.polarity\n",
    "    if(sentiment<0):\n",
    "       print(\"Sentiment is negative \\n\\n\")\n",
    "    elif(sentiment==0):  \n",
    "         print(\"Sentiment is neutral \\n\\n\")\n",
    "    elif(sentiment>0):  \n",
    "         print(\"Sentiment is Positive \\n\\n\")     "
   ]
  },
  {
   "cell_type": "code",
   "execution_count": 10,
   "id": "27bda342",
   "metadata": {},
   "outputs": [
    {
     "name": "stdout",
     "output_type": "stream",
     "text": [
      "Sentiment is Positive \n",
      "\n",
      "\n"
     ]
    }
   ],
   "source": [
    "   "
   ]
  },
  {
   "cell_type": "code",
   "execution_count": null,
   "id": "d8902d6d",
   "metadata": {},
   "outputs": [],
   "source": []
  }
 ],
 "metadata": {
  "kernelspec": {
   "display_name": "Python 3",
   "language": "python",
   "name": "python3"
  },
  "language_info": {
   "codemirror_mode": {
    "name": "ipython",
    "version": 3
   },
   "file_extension": ".py",
   "mimetype": "text/x-python",
   "name": "python",
   "nbconvert_exporter": "python",
   "pygments_lexer": "ipython3",
   "version": "3.8.8"
  }
 },
 "nbformat": 4,
 "nbformat_minor": 5
}
